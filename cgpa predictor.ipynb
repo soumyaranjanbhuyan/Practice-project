{
 "cells": [
  {
   "cell_type": "markdown",
   "id": "b6ee48c3",
   "metadata": {},
   "source": [
    "# CGPA-prediction\n"
   ]
  },
  {
   "cell_type": "code",
   "execution_count": 1,
   "id": "d553360b",
   "metadata": {},
   "outputs": [],
   "source": [
    "# Importing Libraries\n",
    "import pandas as pd\n",
    "import numpy as np"
   ]
  },
  {
   "cell_type": "code",
   "execution_count": 2,
   "id": "9708dadd",
   "metadata": {},
   "outputs": [],
   "source": [
    "# Reading dataset\n",
    "df=pd.read_csv(\"Grades.csv\")"
   ]
  },
  {
   "cell_type": "code",
   "execution_count": 3,
   "id": "13da3f61",
   "metadata": {},
   "outputs": [
    {
     "data": {
      "text/html": [
       "<div>\n",
       "<style scoped>\n",
       "    .dataframe tbody tr th:only-of-type {\n",
       "        vertical-align: middle;\n",
       "    }\n",
       "\n",
       "    .dataframe tbody tr th {\n",
       "        vertical-align: top;\n",
       "    }\n",
       "\n",
       "    .dataframe thead th {\n",
       "        text-align: right;\n",
       "    }\n",
       "</style>\n",
       "<table border=\"1\" class=\"dataframe\">\n",
       "  <thead>\n",
       "    <tr style=\"text-align: right;\">\n",
       "      <th></th>\n",
       "      <th>CGPA</th>\n",
       "    </tr>\n",
       "  </thead>\n",
       "  <tbody>\n",
       "    <tr>\n",
       "      <th>count</th>\n",
       "      <td>571.000000</td>\n",
       "    </tr>\n",
       "    <tr>\n",
       "      <th>mean</th>\n",
       "      <td>2.954888</td>\n",
       "    </tr>\n",
       "    <tr>\n",
       "      <th>std</th>\n",
       "      <td>0.620552</td>\n",
       "    </tr>\n",
       "    <tr>\n",
       "      <th>min</th>\n",
       "      <td>0.800000</td>\n",
       "    </tr>\n",
       "    <tr>\n",
       "      <th>25%</th>\n",
       "      <td>2.538000</td>\n",
       "    </tr>\n",
       "    <tr>\n",
       "      <th>50%</th>\n",
       "      <td>3.029000</td>\n",
       "    </tr>\n",
       "    <tr>\n",
       "      <th>75%</th>\n",
       "      <td>3.451000</td>\n",
       "    </tr>\n",
       "    <tr>\n",
       "      <th>max</th>\n",
       "      <td>3.985000</td>\n",
       "    </tr>\n",
       "  </tbody>\n",
       "</table>\n",
       "</div>"
      ],
      "text/plain": [
       "             CGPA\n",
       "count  571.000000\n",
       "mean     2.954888\n",
       "std      0.620552\n",
       "min      0.800000\n",
       "25%      2.538000\n",
       "50%      3.029000\n",
       "75%      3.451000\n",
       "max      3.985000"
      ]
     },
     "execution_count": 3,
     "metadata": {},
     "output_type": "execute_result"
    }
   ],
   "source": [
    "df.describe()"
   ]
  },
  {
   "cell_type": "code",
   "execution_count": 4,
   "id": "468d4ba2",
   "metadata": {},
   "outputs": [
    {
     "name": "stdout",
     "output_type": "stream",
     "text": [
      "<class 'pandas.core.frame.DataFrame'>\n",
      "RangeIndex: 571 entries, 0 to 570\n",
      "Data columns (total 43 columns):\n",
      " #   Column     Non-Null Count  Dtype  \n",
      "---  ------     --------------  -----  \n",
      " 0   Seat No.   571 non-null    object \n",
      " 1   PH-121     571 non-null    object \n",
      " 2   HS-101     571 non-null    object \n",
      " 3   CY-105     570 non-null    object \n",
      " 4   HS-105/12  570 non-null    object \n",
      " 5   MT-111     569 non-null    object \n",
      " 6   CS-105     571 non-null    object \n",
      " 7   CS-106     569 non-null    object \n",
      " 8   EL-102     569 non-null    object \n",
      " 9   EE-119     569 non-null    object \n",
      " 10  ME-107     569 non-null    object \n",
      " 11  CS-107     569 non-null    object \n",
      " 12  HS-205/20  566 non-null    object \n",
      " 13  MT-222     566 non-null    object \n",
      " 14  EE-222     564 non-null    object \n",
      " 15  MT-224     564 non-null    object \n",
      " 16  CS-210     564 non-null    object \n",
      " 17  CS-211     566 non-null    object \n",
      " 18  CS-203     566 non-null    object \n",
      " 19  CS-214     565 non-null    object \n",
      " 20  EE-217     565 non-null    object \n",
      " 21  CS-212     565 non-null    object \n",
      " 22  CS-215     565 non-null    object \n",
      " 23  MT-331     562 non-null    object \n",
      " 24  EF-303     561 non-null    object \n",
      " 25  HS-304     561 non-null    object \n",
      " 26  CS-301     561 non-null    object \n",
      " 27  CS-302     561 non-null    object \n",
      " 28  TC-383     561 non-null    object \n",
      " 29  MT-442     561 non-null    object \n",
      " 30  EL-332     562 non-null    object \n",
      " 31  CS-318     562 non-null    object \n",
      " 32  CS-306     562 non-null    object \n",
      " 33  CS-312     561 non-null    object \n",
      " 34  CS-317     559 non-null    object \n",
      " 35  CS-403     559 non-null    object \n",
      " 36  CS-421     559 non-null    object \n",
      " 37  CS-406     486 non-null    object \n",
      " 38  CS-414     558 non-null    object \n",
      " 39  CS-419     558 non-null    object \n",
      " 40  CS-423     557 non-null    object \n",
      " 41  CS-412     492 non-null    object \n",
      " 42  CGPA       571 non-null    float64\n",
      "dtypes: float64(1), object(42)\n",
      "memory usage: 191.9+ KB\n"
     ]
    }
   ],
   "source": [
    "df.info()"
   ]
  },
  {
   "cell_type": "code",
   "execution_count": 5,
   "id": "994c037e",
   "metadata": {},
   "outputs": [
    {
     "data": {
      "text/html": [
       "<div>\n",
       "<style scoped>\n",
       "    .dataframe tbody tr th:only-of-type {\n",
       "        vertical-align: middle;\n",
       "    }\n",
       "\n",
       "    .dataframe tbody tr th {\n",
       "        vertical-align: top;\n",
       "    }\n",
       "\n",
       "    .dataframe thead th {\n",
       "        text-align: right;\n",
       "    }\n",
       "</style>\n",
       "<table border=\"1\" class=\"dataframe\">\n",
       "  <thead>\n",
       "    <tr style=\"text-align: right;\">\n",
       "      <th></th>\n",
       "      <th>Seat No.</th>\n",
       "      <th>PH-121</th>\n",
       "      <th>HS-101</th>\n",
       "      <th>CY-105</th>\n",
       "      <th>HS-105/12</th>\n",
       "      <th>MT-111</th>\n",
       "      <th>CS-105</th>\n",
       "      <th>CS-106</th>\n",
       "      <th>EL-102</th>\n",
       "      <th>EE-119</th>\n",
       "      <th>...</th>\n",
       "      <th>CS-312</th>\n",
       "      <th>CS-317</th>\n",
       "      <th>CS-403</th>\n",
       "      <th>CS-421</th>\n",
       "      <th>CS-406</th>\n",
       "      <th>CS-414</th>\n",
       "      <th>CS-419</th>\n",
       "      <th>CS-423</th>\n",
       "      <th>CS-412</th>\n",
       "      <th>CGPA</th>\n",
       "    </tr>\n",
       "  </thead>\n",
       "  <tbody>\n",
       "    <tr>\n",
       "      <th>0</th>\n",
       "      <td>CS-97001</td>\n",
       "      <td>B-</td>\n",
       "      <td>D+</td>\n",
       "      <td>C-</td>\n",
       "      <td>C</td>\n",
       "      <td>C-</td>\n",
       "      <td>D+</td>\n",
       "      <td>D</td>\n",
       "      <td>C-</td>\n",
       "      <td>B-</td>\n",
       "      <td>...</td>\n",
       "      <td>C-</td>\n",
       "      <td>C-</td>\n",
       "      <td>C-</td>\n",
       "      <td>C-</td>\n",
       "      <td>A-</td>\n",
       "      <td>A</td>\n",
       "      <td>C-</td>\n",
       "      <td>B</td>\n",
       "      <td>A-</td>\n",
       "      <td>2.205</td>\n",
       "    </tr>\n",
       "    <tr>\n",
       "      <th>1</th>\n",
       "      <td>CS-97002</td>\n",
       "      <td>A</td>\n",
       "      <td>D</td>\n",
       "      <td>D+</td>\n",
       "      <td>D</td>\n",
       "      <td>B-</td>\n",
       "      <td>C</td>\n",
       "      <td>D</td>\n",
       "      <td>A</td>\n",
       "      <td>D+</td>\n",
       "      <td>...</td>\n",
       "      <td>D+</td>\n",
       "      <td>D</td>\n",
       "      <td>C</td>\n",
       "      <td>D</td>\n",
       "      <td>A-</td>\n",
       "      <td>B-</td>\n",
       "      <td>C</td>\n",
       "      <td>C</td>\n",
       "      <td>B</td>\n",
       "      <td>2.008</td>\n",
       "    </tr>\n",
       "    <tr>\n",
       "      <th>2</th>\n",
       "      <td>CS-97003</td>\n",
       "      <td>A</td>\n",
       "      <td>B</td>\n",
       "      <td>A</td>\n",
       "      <td>B-</td>\n",
       "      <td>B+</td>\n",
       "      <td>A</td>\n",
       "      <td>B-</td>\n",
       "      <td>B+</td>\n",
       "      <td>A-</td>\n",
       "      <td>...</td>\n",
       "      <td>B</td>\n",
       "      <td>B</td>\n",
       "      <td>A</td>\n",
       "      <td>C</td>\n",
       "      <td>A</td>\n",
       "      <td>A</td>\n",
       "      <td>A</td>\n",
       "      <td>A-</td>\n",
       "      <td>A</td>\n",
       "      <td>3.608</td>\n",
       "    </tr>\n",
       "    <tr>\n",
       "      <th>3</th>\n",
       "      <td>CS-97004</td>\n",
       "      <td>D</td>\n",
       "      <td>C+</td>\n",
       "      <td>D+</td>\n",
       "      <td>D</td>\n",
       "      <td>D</td>\n",
       "      <td>A-</td>\n",
       "      <td>D+</td>\n",
       "      <td>C-</td>\n",
       "      <td>D</td>\n",
       "      <td>...</td>\n",
       "      <td>D+</td>\n",
       "      <td>C</td>\n",
       "      <td>D+</td>\n",
       "      <td>C-</td>\n",
       "      <td>B-</td>\n",
       "      <td>B</td>\n",
       "      <td>C+</td>\n",
       "      <td>C+</td>\n",
       "      <td>C+</td>\n",
       "      <td>1.906</td>\n",
       "    </tr>\n",
       "    <tr>\n",
       "      <th>4</th>\n",
       "      <td>CS-97005</td>\n",
       "      <td>A-</td>\n",
       "      <td>A-</td>\n",
       "      <td>A-</td>\n",
       "      <td>B+</td>\n",
       "      <td>A</td>\n",
       "      <td>A</td>\n",
       "      <td>A-</td>\n",
       "      <td>B+</td>\n",
       "      <td>A</td>\n",
       "      <td>...</td>\n",
       "      <td>B-</td>\n",
       "      <td>B+</td>\n",
       "      <td>B+</td>\n",
       "      <td>B-</td>\n",
       "      <td>A-</td>\n",
       "      <td>A</td>\n",
       "      <td>A-</td>\n",
       "      <td>A-</td>\n",
       "      <td>A</td>\n",
       "      <td>3.448</td>\n",
       "    </tr>\n",
       "  </tbody>\n",
       "</table>\n",
       "<p>5 rows × 43 columns</p>\n",
       "</div>"
      ],
      "text/plain": [
       "   Seat No. PH-121 HS-101 CY-105 HS-105/12 MT-111 CS-105 CS-106 EL-102 EE-119  \\\n",
       "0  CS-97001     B-     D+     C-         C     C-     D+      D     C-     B-   \n",
       "1  CS-97002      A      D     D+         D     B-      C      D      A     D+   \n",
       "2  CS-97003      A      B      A        B-     B+      A     B-     B+     A-   \n",
       "3  CS-97004      D     C+     D+         D      D     A-     D+     C-      D   \n",
       "4  CS-97005     A-     A-     A-        B+      A      A     A-     B+      A   \n",
       "\n",
       "   ... CS-312 CS-317 CS-403 CS-421 CS-406 CS-414 CS-419 CS-423 CS-412   CGPA  \n",
       "0  ...     C-     C-     C-     C-     A-      A     C-      B     A-  2.205  \n",
       "1  ...     D+      D      C      D     A-     B-      C      C      B  2.008  \n",
       "2  ...      B      B      A      C      A      A      A     A-      A  3.608  \n",
       "3  ...     D+      C     D+     C-     B-      B     C+     C+     C+  1.906  \n",
       "4  ...     B-     B+     B+     B-     A-      A     A-     A-      A  3.448  \n",
       "\n",
       "[5 rows x 43 columns]"
      ]
     },
     "execution_count": 5,
     "metadata": {},
     "output_type": "execute_result"
    }
   ],
   "source": [
    "df.head()"
   ]
  },
  {
   "cell_type": "code",
   "execution_count": 6,
   "id": "11a36151",
   "metadata": {},
   "outputs": [
    {
     "data": {
      "text/plain": [
       "Seat No.      0\n",
       "PH-121        0\n",
       "HS-101        0\n",
       "CY-105        1\n",
       "HS-105/12     1\n",
       "MT-111        2\n",
       "CS-105        0\n",
       "CS-106        2\n",
       "EL-102        2\n",
       "EE-119        2\n",
       "ME-107        2\n",
       "CS-107        2\n",
       "HS-205/20     5\n",
       "MT-222        5\n",
       "EE-222        7\n",
       "MT-224        7\n",
       "CS-210        7\n",
       "CS-211        5\n",
       "CS-203        5\n",
       "CS-214        6\n",
       "EE-217        6\n",
       "CS-212        6\n",
       "CS-215        6\n",
       "MT-331        9\n",
       "EF-303       10\n",
       "HS-304       10\n",
       "CS-301       10\n",
       "CS-302       10\n",
       "TC-383       10\n",
       "MT-442       10\n",
       "EL-332        9\n",
       "CS-318        9\n",
       "CS-306        9\n",
       "CS-312       10\n",
       "CS-317       12\n",
       "CS-403       12\n",
       "CS-421       12\n",
       "CS-406       85\n",
       "CS-414       13\n",
       "CS-419       13\n",
       "CS-423       14\n",
       "CS-412       79\n",
       "CGPA          0\n",
       "dtype: int64"
      ]
     },
     "execution_count": 6,
     "metadata": {},
     "output_type": "execute_result"
    }
   ],
   "source": [
    "df.isnull().sum()"
   ]
  },
  {
   "cell_type": "code",
   "execution_count": 7,
   "id": "f1519f31",
   "metadata": {},
   "outputs": [
    {
     "data": {
      "text/plain": [
       "0      2.205\n",
       "1      2.008\n",
       "2      3.608\n",
       "3      1.906\n",
       "4      3.448\n",
       "       ...  \n",
       "566    3.798\n",
       "567    3.772\n",
       "568    3.470\n",
       "569    2.193\n",
       "570    1.753\n",
       "Name: CGPA, Length: 571, dtype: float64"
      ]
     },
     "execution_count": 7,
     "metadata": {},
     "output_type": "execute_result"
    }
   ],
   "source": [
    "output = df['CGPA']\n",
    "output"
   ]
  },
  {
   "cell_type": "code",
   "execution_count": 8,
   "id": "2d0cce4a",
   "metadata": {},
   "outputs": [],
   "source": [
    "# Droping those features which perform no role in target computation\n",
    "dataset=df.drop(['CGPA', 'Seat No.'], axis='columns')"
   ]
  },
  {
   "cell_type": "code",
   "execution_count": 9,
   "id": "237655fa",
   "metadata": {},
   "outputs": [
    {
     "data": {
      "text/html": [
       "<div>\n",
       "<style scoped>\n",
       "    .dataframe tbody tr th:only-of-type {\n",
       "        vertical-align: middle;\n",
       "    }\n",
       "\n",
       "    .dataframe tbody tr th {\n",
       "        vertical-align: top;\n",
       "    }\n",
       "\n",
       "    .dataframe thead th {\n",
       "        text-align: right;\n",
       "    }\n",
       "</style>\n",
       "<table border=\"1\" class=\"dataframe\">\n",
       "  <thead>\n",
       "    <tr style=\"text-align: right;\">\n",
       "      <th></th>\n",
       "      <th>PH-121</th>\n",
       "      <th>HS-101</th>\n",
       "      <th>CY-105</th>\n",
       "      <th>HS-105/12</th>\n",
       "      <th>MT-111</th>\n",
       "      <th>CS-105</th>\n",
       "      <th>CS-106</th>\n",
       "      <th>EL-102</th>\n",
       "      <th>EE-119</th>\n",
       "      <th>ME-107</th>\n",
       "      <th>...</th>\n",
       "      <th>CS-306</th>\n",
       "      <th>CS-312</th>\n",
       "      <th>CS-317</th>\n",
       "      <th>CS-403</th>\n",
       "      <th>CS-421</th>\n",
       "      <th>CS-406</th>\n",
       "      <th>CS-414</th>\n",
       "      <th>CS-419</th>\n",
       "      <th>CS-423</th>\n",
       "      <th>CS-412</th>\n",
       "    </tr>\n",
       "  </thead>\n",
       "  <tbody>\n",
       "    <tr>\n",
       "      <th>0</th>\n",
       "      <td>B-</td>\n",
       "      <td>D+</td>\n",
       "      <td>C-</td>\n",
       "      <td>C</td>\n",
       "      <td>C-</td>\n",
       "      <td>D+</td>\n",
       "      <td>D</td>\n",
       "      <td>C-</td>\n",
       "      <td>B-</td>\n",
       "      <td>C-</td>\n",
       "      <td>...</td>\n",
       "      <td>C</td>\n",
       "      <td>C-</td>\n",
       "      <td>C-</td>\n",
       "      <td>C-</td>\n",
       "      <td>C-</td>\n",
       "      <td>A-</td>\n",
       "      <td>A</td>\n",
       "      <td>C-</td>\n",
       "      <td>B</td>\n",
       "      <td>A-</td>\n",
       "    </tr>\n",
       "    <tr>\n",
       "      <th>1</th>\n",
       "      <td>A</td>\n",
       "      <td>D</td>\n",
       "      <td>D+</td>\n",
       "      <td>D</td>\n",
       "      <td>B-</td>\n",
       "      <td>C</td>\n",
       "      <td>D</td>\n",
       "      <td>A</td>\n",
       "      <td>D+</td>\n",
       "      <td>D</td>\n",
       "      <td>...</td>\n",
       "      <td>D</td>\n",
       "      <td>D+</td>\n",
       "      <td>D</td>\n",
       "      <td>C</td>\n",
       "      <td>D</td>\n",
       "      <td>A-</td>\n",
       "      <td>B-</td>\n",
       "      <td>C</td>\n",
       "      <td>C</td>\n",
       "      <td>B</td>\n",
       "    </tr>\n",
       "    <tr>\n",
       "      <th>2</th>\n",
       "      <td>A</td>\n",
       "      <td>B</td>\n",
       "      <td>A</td>\n",
       "      <td>B-</td>\n",
       "      <td>B+</td>\n",
       "      <td>A</td>\n",
       "      <td>B-</td>\n",
       "      <td>B+</td>\n",
       "      <td>A-</td>\n",
       "      <td>A-</td>\n",
       "      <td>...</td>\n",
       "      <td>A-</td>\n",
       "      <td>B</td>\n",
       "      <td>B</td>\n",
       "      <td>A</td>\n",
       "      <td>C</td>\n",
       "      <td>A</td>\n",
       "      <td>A</td>\n",
       "      <td>A</td>\n",
       "      <td>A-</td>\n",
       "      <td>A</td>\n",
       "    </tr>\n",
       "    <tr>\n",
       "      <th>3</th>\n",
       "      <td>D</td>\n",
       "      <td>C+</td>\n",
       "      <td>D+</td>\n",
       "      <td>D</td>\n",
       "      <td>D</td>\n",
       "      <td>A-</td>\n",
       "      <td>D+</td>\n",
       "      <td>C-</td>\n",
       "      <td>D</td>\n",
       "      <td>C+</td>\n",
       "      <td>...</td>\n",
       "      <td>C-</td>\n",
       "      <td>D+</td>\n",
       "      <td>C</td>\n",
       "      <td>D+</td>\n",
       "      <td>C-</td>\n",
       "      <td>B-</td>\n",
       "      <td>B</td>\n",
       "      <td>C+</td>\n",
       "      <td>C+</td>\n",
       "      <td>C+</td>\n",
       "    </tr>\n",
       "    <tr>\n",
       "      <th>4</th>\n",
       "      <td>A-</td>\n",
       "      <td>A-</td>\n",
       "      <td>A-</td>\n",
       "      <td>B+</td>\n",
       "      <td>A</td>\n",
       "      <td>A</td>\n",
       "      <td>A-</td>\n",
       "      <td>B+</td>\n",
       "      <td>A</td>\n",
       "      <td>A-</td>\n",
       "      <td>...</td>\n",
       "      <td>A-</td>\n",
       "      <td>B-</td>\n",
       "      <td>B+</td>\n",
       "      <td>B+</td>\n",
       "      <td>B-</td>\n",
       "      <td>A-</td>\n",
       "      <td>A</td>\n",
       "      <td>A-</td>\n",
       "      <td>A-</td>\n",
       "      <td>A</td>\n",
       "    </tr>\n",
       "  </tbody>\n",
       "</table>\n",
       "<p>5 rows × 41 columns</p>\n",
       "</div>"
      ],
      "text/plain": [
       "  PH-121 HS-101 CY-105 HS-105/12 MT-111 CS-105 CS-106 EL-102 EE-119 ME-107  \\\n",
       "0     B-     D+     C-         C     C-     D+      D     C-     B-     C-   \n",
       "1      A      D     D+         D     B-      C      D      A     D+      D   \n",
       "2      A      B      A        B-     B+      A     B-     B+     A-     A-   \n",
       "3      D     C+     D+         D      D     A-     D+     C-      D     C+   \n",
       "4     A-     A-     A-        B+      A      A     A-     B+      A     A-   \n",
       "\n",
       "   ... CS-306 CS-312 CS-317 CS-403 CS-421 CS-406 CS-414 CS-419 CS-423 CS-412  \n",
       "0  ...      C     C-     C-     C-     C-     A-      A     C-      B     A-  \n",
       "1  ...      D     D+      D      C      D     A-     B-      C      C      B  \n",
       "2  ...     A-      B      B      A      C      A      A      A     A-      A  \n",
       "3  ...     C-     D+      C     D+     C-     B-      B     C+     C+     C+  \n",
       "4  ...     A-     B-     B+     B+     B-     A-      A     A-     A-      A  \n",
       "\n",
       "[5 rows x 41 columns]"
      ]
     },
     "execution_count": 9,
     "metadata": {},
     "output_type": "execute_result"
    }
   ],
   "source": [
    "dataset.head()"
   ]
  },
  {
   "cell_type": "code",
   "execution_count": 10,
   "id": "7e335cec",
   "metadata": {},
   "outputs": [
    {
     "data": {
      "text/html": [
       "<div>\n",
       "<style scoped>\n",
       "    .dataframe tbody tr th:only-of-type {\n",
       "        vertical-align: middle;\n",
       "    }\n",
       "\n",
       "    .dataframe tbody tr th {\n",
       "        vertical-align: top;\n",
       "    }\n",
       "\n",
       "    .dataframe thead th {\n",
       "        text-align: right;\n",
       "    }\n",
       "</style>\n",
       "<table border=\"1\" class=\"dataframe\">\n",
       "  <thead>\n",
       "    <tr style=\"text-align: right;\">\n",
       "      <th></th>\n",
       "      <th>PH-121</th>\n",
       "      <th>HS-101</th>\n",
       "      <th>CY-105</th>\n",
       "      <th>HS-105/12</th>\n",
       "      <th>MT-111</th>\n",
       "      <th>CS-105</th>\n",
       "      <th>CS-106</th>\n",
       "      <th>EL-102</th>\n",
       "      <th>EE-119</th>\n",
       "      <th>ME-107</th>\n",
       "      <th>...</th>\n",
       "      <th>CS-306</th>\n",
       "      <th>CS-312</th>\n",
       "      <th>CS-317</th>\n",
       "      <th>CS-403</th>\n",
       "      <th>CS-421</th>\n",
       "      <th>CS-406</th>\n",
       "      <th>CS-414</th>\n",
       "      <th>CS-419</th>\n",
       "      <th>CS-423</th>\n",
       "      <th>CS-412</th>\n",
       "    </tr>\n",
       "  </thead>\n",
       "  <tbody>\n",
       "    <tr>\n",
       "      <th>0</th>\n",
       "      <td>2.7</td>\n",
       "      <td>1.4</td>\n",
       "      <td>1.7</td>\n",
       "      <td>2.0</td>\n",
       "      <td>1.7</td>\n",
       "      <td>1.4</td>\n",
       "      <td>1.0</td>\n",
       "      <td>1.7</td>\n",
       "      <td>2.7</td>\n",
       "      <td>1.7</td>\n",
       "      <td>...</td>\n",
       "      <td>2.0</td>\n",
       "      <td>1.7</td>\n",
       "      <td>1.7</td>\n",
       "      <td>1.7</td>\n",
       "      <td>1.7</td>\n",
       "      <td>3.7</td>\n",
       "      <td>4.0</td>\n",
       "      <td>1.7</td>\n",
       "      <td>3.0</td>\n",
       "      <td>3.7</td>\n",
       "    </tr>\n",
       "    <tr>\n",
       "      <th>1</th>\n",
       "      <td>4.0</td>\n",
       "      <td>1.0</td>\n",
       "      <td>1.4</td>\n",
       "      <td>1.0</td>\n",
       "      <td>2.7</td>\n",
       "      <td>2.0</td>\n",
       "      <td>1.0</td>\n",
       "      <td>4.0</td>\n",
       "      <td>1.4</td>\n",
       "      <td>1.0</td>\n",
       "      <td>...</td>\n",
       "      <td>1.0</td>\n",
       "      <td>1.4</td>\n",
       "      <td>1.0</td>\n",
       "      <td>2.0</td>\n",
       "      <td>1.0</td>\n",
       "      <td>3.7</td>\n",
       "      <td>2.7</td>\n",
       "      <td>2.0</td>\n",
       "      <td>2.0</td>\n",
       "      <td>3.0</td>\n",
       "    </tr>\n",
       "    <tr>\n",
       "      <th>2</th>\n",
       "      <td>4.0</td>\n",
       "      <td>3.0</td>\n",
       "      <td>4.0</td>\n",
       "      <td>2.7</td>\n",
       "      <td>3.4</td>\n",
       "      <td>4.0</td>\n",
       "      <td>2.7</td>\n",
       "      <td>3.4</td>\n",
       "      <td>3.7</td>\n",
       "      <td>3.7</td>\n",
       "      <td>...</td>\n",
       "      <td>3.7</td>\n",
       "      <td>3.0</td>\n",
       "      <td>3.0</td>\n",
       "      <td>4.0</td>\n",
       "      <td>2.0</td>\n",
       "      <td>4.0</td>\n",
       "      <td>4.0</td>\n",
       "      <td>4.0</td>\n",
       "      <td>3.7</td>\n",
       "      <td>4.0</td>\n",
       "    </tr>\n",
       "    <tr>\n",
       "      <th>3</th>\n",
       "      <td>1.0</td>\n",
       "      <td>2.4</td>\n",
       "      <td>1.4</td>\n",
       "      <td>1.0</td>\n",
       "      <td>1.0</td>\n",
       "      <td>3.7</td>\n",
       "      <td>1.4</td>\n",
       "      <td>1.7</td>\n",
       "      <td>1.0</td>\n",
       "      <td>2.4</td>\n",
       "      <td>...</td>\n",
       "      <td>1.7</td>\n",
       "      <td>1.4</td>\n",
       "      <td>2.0</td>\n",
       "      <td>1.4</td>\n",
       "      <td>1.7</td>\n",
       "      <td>2.7</td>\n",
       "      <td>3.0</td>\n",
       "      <td>2.4</td>\n",
       "      <td>2.4</td>\n",
       "      <td>2.4</td>\n",
       "    </tr>\n",
       "    <tr>\n",
       "      <th>4</th>\n",
       "      <td>3.7</td>\n",
       "      <td>3.7</td>\n",
       "      <td>3.7</td>\n",
       "      <td>3.4</td>\n",
       "      <td>4.0</td>\n",
       "      <td>4.0</td>\n",
       "      <td>3.7</td>\n",
       "      <td>3.4</td>\n",
       "      <td>4.0</td>\n",
       "      <td>3.7</td>\n",
       "      <td>...</td>\n",
       "      <td>3.7</td>\n",
       "      <td>2.7</td>\n",
       "      <td>3.4</td>\n",
       "      <td>3.4</td>\n",
       "      <td>2.7</td>\n",
       "      <td>3.7</td>\n",
       "      <td>4.0</td>\n",
       "      <td>3.7</td>\n",
       "      <td>3.7</td>\n",
       "      <td>4.0</td>\n",
       "    </tr>\n",
       "  </tbody>\n",
       "</table>\n",
       "<p>5 rows × 41 columns</p>\n",
       "</div>"
      ],
      "text/plain": [
       "   PH-121  HS-101  CY-105  HS-105/12  MT-111  CS-105  CS-106  EL-102  EE-119  \\\n",
       "0     2.7     1.4     1.7        2.0     1.7     1.4     1.0     1.7     2.7   \n",
       "1     4.0     1.0     1.4        1.0     2.7     2.0     1.0     4.0     1.4   \n",
       "2     4.0     3.0     4.0        2.7     3.4     4.0     2.7     3.4     3.7   \n",
       "3     1.0     2.4     1.4        1.0     1.0     3.7     1.4     1.7     1.0   \n",
       "4     3.7     3.7     3.7        3.4     4.0     4.0     3.7     3.4     4.0   \n",
       "\n",
       "   ME-107  ...  CS-306  CS-312  CS-317  CS-403  CS-421  CS-406  CS-414  \\\n",
       "0     1.7  ...     2.0     1.7     1.7     1.7     1.7     3.7     4.0   \n",
       "1     1.0  ...     1.0     1.4     1.0     2.0     1.0     3.7     2.7   \n",
       "2     3.7  ...     3.7     3.0     3.0     4.0     2.0     4.0     4.0   \n",
       "3     2.4  ...     1.7     1.4     2.0     1.4     1.7     2.7     3.0   \n",
       "4     3.7  ...     3.7     2.7     3.4     3.4     2.7     3.7     4.0   \n",
       "\n",
       "   CS-419  CS-423  CS-412  \n",
       "0     1.7     3.0     3.7  \n",
       "1     2.0     2.0     3.0  \n",
       "2     4.0     3.7     4.0  \n",
       "3     2.4     2.4     2.4  \n",
       "4     3.7     3.7     4.0  \n",
       "\n",
       "[5 rows x 41 columns]"
      ]
     },
     "execution_count": 10,
     "metadata": {},
     "output_type": "execute_result"
    }
   ],
   "source": [
    "GPA = {\"A+\": 4.0,\n",
    "    \"A\": 4.0,\n",
    "    \"A-\" : 3.7,\n",
    "    \"B+\" : 3.4,\n",
    "    \"B\" : 3.0,\n",
    "    \"B-\" : 2.7,\n",
    "    \"C+\" : 2.4,\n",
    "    \"C\" : 2.0,\n",
    "    \"C-\" : 1.7,\n",
    "    \"D+\" : 1.4,\n",
    "    \"D\" : 1.0,\n",
    "    \"F\" : 0.0,\n",
    "    \"WU\" :0}\n",
    "# Making string values integer by assigning GPs to grades\n",
    "for i in dataset:\n",
    "    dataset[i]=dataset[i].map(GPA)\n",
    "dataset.head()"
   ]
  },
  {
   "cell_type": "code",
   "execution_count": 11,
   "id": "78b53ae7",
   "metadata": {},
   "outputs": [],
   "source": [
    "#filling the null values\n",
    "dataset[0:] = dataset[0:].fillna(0)"
   ]
  },
  {
   "cell_type": "code",
   "execution_count": 12,
   "id": "0784433b",
   "metadata": {},
   "outputs": [
    {
     "data": {
      "text/html": [
       "<div>\n",
       "<style scoped>\n",
       "    .dataframe tbody tr th:only-of-type {\n",
       "        vertical-align: middle;\n",
       "    }\n",
       "\n",
       "    .dataframe tbody tr th {\n",
       "        vertical-align: top;\n",
       "    }\n",
       "\n",
       "    .dataframe thead th {\n",
       "        text-align: right;\n",
       "    }\n",
       "</style>\n",
       "<table border=\"1\" class=\"dataframe\">\n",
       "  <thead>\n",
       "    <tr style=\"text-align: right;\">\n",
       "      <th></th>\n",
       "      <th>PH-121</th>\n",
       "      <th>HS-101</th>\n",
       "      <th>CY-105</th>\n",
       "      <th>HS-105/12</th>\n",
       "      <th>MT-111</th>\n",
       "      <th>CS-105</th>\n",
       "      <th>CS-106</th>\n",
       "      <th>EL-102</th>\n",
       "      <th>EE-119</th>\n",
       "      <th>ME-107</th>\n",
       "      <th>...</th>\n",
       "      <th>CS-306</th>\n",
       "      <th>CS-312</th>\n",
       "      <th>CS-317</th>\n",
       "      <th>CS-403</th>\n",
       "      <th>CS-421</th>\n",
       "      <th>CS-406</th>\n",
       "      <th>CS-414</th>\n",
       "      <th>CS-419</th>\n",
       "      <th>CS-423</th>\n",
       "      <th>CS-412</th>\n",
       "    </tr>\n",
       "  </thead>\n",
       "  <tbody>\n",
       "    <tr>\n",
       "      <th>0</th>\n",
       "      <td>10.8</td>\n",
       "      <td>2.8</td>\n",
       "      <td>5.1</td>\n",
       "      <td>6.0</td>\n",
       "      <td>5.1</td>\n",
       "      <td>5.6</td>\n",
       "      <td>4.0</td>\n",
       "      <td>5.1</td>\n",
       "      <td>10.8</td>\n",
       "      <td>6.8</td>\n",
       "      <td>...</td>\n",
       "      <td>8.0</td>\n",
       "      <td>6.8</td>\n",
       "      <td>5.1</td>\n",
       "      <td>5.1</td>\n",
       "      <td>3.4</td>\n",
       "      <td>7.4</td>\n",
       "      <td>12.0</td>\n",
       "      <td>6.8</td>\n",
       "      <td>12.0</td>\n",
       "      <td>7.4</td>\n",
       "    </tr>\n",
       "    <tr>\n",
       "      <th>1</th>\n",
       "      <td>16.0</td>\n",
       "      <td>2.0</td>\n",
       "      <td>4.2</td>\n",
       "      <td>3.0</td>\n",
       "      <td>8.1</td>\n",
       "      <td>8.0</td>\n",
       "      <td>4.0</td>\n",
       "      <td>12.0</td>\n",
       "      <td>5.6</td>\n",
       "      <td>4.0</td>\n",
       "      <td>...</td>\n",
       "      <td>4.0</td>\n",
       "      <td>5.6</td>\n",
       "      <td>3.0</td>\n",
       "      <td>6.0</td>\n",
       "      <td>2.0</td>\n",
       "      <td>7.4</td>\n",
       "      <td>8.1</td>\n",
       "      <td>8.0</td>\n",
       "      <td>8.0</td>\n",
       "      <td>6.0</td>\n",
       "    </tr>\n",
       "    <tr>\n",
       "      <th>2</th>\n",
       "      <td>16.0</td>\n",
       "      <td>6.0</td>\n",
       "      <td>12.0</td>\n",
       "      <td>8.1</td>\n",
       "      <td>10.2</td>\n",
       "      <td>16.0</td>\n",
       "      <td>10.8</td>\n",
       "      <td>10.2</td>\n",
       "      <td>14.8</td>\n",
       "      <td>14.8</td>\n",
       "      <td>...</td>\n",
       "      <td>14.8</td>\n",
       "      <td>12.0</td>\n",
       "      <td>9.0</td>\n",
       "      <td>12.0</td>\n",
       "      <td>4.0</td>\n",
       "      <td>8.0</td>\n",
       "      <td>12.0</td>\n",
       "      <td>16.0</td>\n",
       "      <td>14.8</td>\n",
       "      <td>8.0</td>\n",
       "    </tr>\n",
       "    <tr>\n",
       "      <th>3</th>\n",
       "      <td>4.0</td>\n",
       "      <td>4.8</td>\n",
       "      <td>4.2</td>\n",
       "      <td>3.0</td>\n",
       "      <td>3.0</td>\n",
       "      <td>14.8</td>\n",
       "      <td>5.6</td>\n",
       "      <td>5.1</td>\n",
       "      <td>4.0</td>\n",
       "      <td>9.6</td>\n",
       "      <td>...</td>\n",
       "      <td>6.8</td>\n",
       "      <td>5.6</td>\n",
       "      <td>6.0</td>\n",
       "      <td>4.2</td>\n",
       "      <td>3.4</td>\n",
       "      <td>5.4</td>\n",
       "      <td>9.0</td>\n",
       "      <td>9.6</td>\n",
       "      <td>9.6</td>\n",
       "      <td>4.8</td>\n",
       "    </tr>\n",
       "    <tr>\n",
       "      <th>4</th>\n",
       "      <td>14.8</td>\n",
       "      <td>7.4</td>\n",
       "      <td>11.1</td>\n",
       "      <td>10.2</td>\n",
       "      <td>12.0</td>\n",
       "      <td>16.0</td>\n",
       "      <td>14.8</td>\n",
       "      <td>10.2</td>\n",
       "      <td>16.0</td>\n",
       "      <td>14.8</td>\n",
       "      <td>...</td>\n",
       "      <td>14.8</td>\n",
       "      <td>10.8</td>\n",
       "      <td>10.2</td>\n",
       "      <td>10.2</td>\n",
       "      <td>5.4</td>\n",
       "      <td>7.4</td>\n",
       "      <td>12.0</td>\n",
       "      <td>14.8</td>\n",
       "      <td>14.8</td>\n",
       "      <td>8.0</td>\n",
       "    </tr>\n",
       "  </tbody>\n",
       "</table>\n",
       "<p>5 rows × 41 columns</p>\n",
       "</div>"
      ],
      "text/plain": [
       "   PH-121  HS-101  CY-105  HS-105/12  MT-111  CS-105  CS-106  EL-102  EE-119  \\\n",
       "0    10.8     2.8     5.1        6.0     5.1     5.6     4.0     5.1    10.8   \n",
       "1    16.0     2.0     4.2        3.0     8.1     8.0     4.0    12.0     5.6   \n",
       "2    16.0     6.0    12.0        8.1    10.2    16.0    10.8    10.2    14.8   \n",
       "3     4.0     4.8     4.2        3.0     3.0    14.8     5.6     5.1     4.0   \n",
       "4    14.8     7.4    11.1       10.2    12.0    16.0    14.8    10.2    16.0   \n",
       "\n",
       "   ME-107  ...  CS-306  CS-312  CS-317  CS-403  CS-421  CS-406  CS-414  \\\n",
       "0     6.8  ...     8.0     6.8     5.1     5.1     3.4     7.4    12.0   \n",
       "1     4.0  ...     4.0     5.6     3.0     6.0     2.0     7.4     8.1   \n",
       "2    14.8  ...    14.8    12.0     9.0    12.0     4.0     8.0    12.0   \n",
       "3     9.6  ...     6.8     5.6     6.0     4.2     3.4     5.4     9.0   \n",
       "4    14.8  ...    14.8    10.8    10.2    10.2     5.4     7.4    12.0   \n",
       "\n",
       "   CS-419  CS-423  CS-412  \n",
       "0     6.8    12.0     7.4  \n",
       "1     8.0     8.0     6.0  \n",
       "2    16.0    14.8     8.0  \n",
       "3     9.6     9.6     4.8  \n",
       "4    14.8    14.8     8.0  \n",
       "\n",
       "[5 rows x 41 columns]"
      ]
     },
     "execution_count": 12,
     "metadata": {},
     "output_type": "execute_result"
    }
   ],
   "source": [
    "# Calculating grade points by multiplying grade points with credit hours\n",
    "four=[0,5,6,8,9,10,13,18,19,20,21,25,30,31,32,38,39]\n",
    "three=[2,3,4,7,12,14,15,16,22,23,26,28,33,34,37]\n",
    "two=[1,11,24,27,29,35,36,40]\n",
    "one=[17]\n",
    "for i in four:\n",
    "  dataset.iloc[:, i]=dataset.iloc[:, i]*4\n",
    "for i in three:\n",
    "  dataset.iloc[:, i]=dataset.iloc[:, i]*3\n",
    "for i in two:\n",
    "  dataset.iloc[:, i]=dataset.iloc[:, i]*2\n",
    "    \n",
    "dataset.head()\n"
   ]
  },
  {
   "cell_type": "code",
   "execution_count": 13,
   "id": "91d81bc2",
   "metadata": {},
   "outputs": [],
   "source": [
    "import matplotlib.pyplot as plt\n",
    "import seaborn as sns\n",
    "from sklearn.linear_model import LinearRegression\n",
    "from sklearn.model_selection import train_test_split"
   ]
  },
  {
   "cell_type": "code",
   "execution_count": 16,
   "id": "2753fbd8",
   "metadata": {},
   "outputs": [],
   "source": [
    "# Taking all first year courses in variable first_year\n",
    "first_year=dataset.loc[:, \"PH-121\":\"CS-107\"]"
   ]
  },
  {
   "cell_type": "code",
   "execution_count": 17,
   "id": "8d87ad31",
   "metadata": {},
   "outputs": [
    {
     "data": {
      "text/html": [
       "<div>\n",
       "<style scoped>\n",
       "    .dataframe tbody tr th:only-of-type {\n",
       "        vertical-align: middle;\n",
       "    }\n",
       "\n",
       "    .dataframe tbody tr th {\n",
       "        vertical-align: top;\n",
       "    }\n",
       "\n",
       "    .dataframe thead th {\n",
       "        text-align: right;\n",
       "    }\n",
       "</style>\n",
       "<table border=\"1\" class=\"dataframe\">\n",
       "  <thead>\n",
       "    <tr style=\"text-align: right;\">\n",
       "      <th></th>\n",
       "      <th>PH-121</th>\n",
       "      <th>HS-101</th>\n",
       "      <th>CY-105</th>\n",
       "      <th>HS-105/12</th>\n",
       "      <th>MT-111</th>\n",
       "      <th>CS-105</th>\n",
       "      <th>CS-106</th>\n",
       "      <th>EL-102</th>\n",
       "      <th>EE-119</th>\n",
       "      <th>ME-107</th>\n",
       "      <th>CS-107</th>\n",
       "    </tr>\n",
       "  </thead>\n",
       "  <tbody>\n",
       "    <tr>\n",
       "      <th>0</th>\n",
       "      <td>10.8</td>\n",
       "      <td>2.8</td>\n",
       "      <td>5.1</td>\n",
       "      <td>6.0</td>\n",
       "      <td>5.1</td>\n",
       "      <td>5.6</td>\n",
       "      <td>4.0</td>\n",
       "      <td>5.1</td>\n",
       "      <td>10.8</td>\n",
       "      <td>6.8</td>\n",
       "      <td>6.8</td>\n",
       "    </tr>\n",
       "    <tr>\n",
       "      <th>1</th>\n",
       "      <td>16.0</td>\n",
       "      <td>2.0</td>\n",
       "      <td>4.2</td>\n",
       "      <td>3.0</td>\n",
       "      <td>8.1</td>\n",
       "      <td>8.0</td>\n",
       "      <td>4.0</td>\n",
       "      <td>12.0</td>\n",
       "      <td>5.6</td>\n",
       "      <td>4.0</td>\n",
       "      <td>13.6</td>\n",
       "    </tr>\n",
       "    <tr>\n",
       "      <th>2</th>\n",
       "      <td>16.0</td>\n",
       "      <td>6.0</td>\n",
       "      <td>12.0</td>\n",
       "      <td>8.1</td>\n",
       "      <td>10.2</td>\n",
       "      <td>16.0</td>\n",
       "      <td>10.8</td>\n",
       "      <td>10.2</td>\n",
       "      <td>14.8</td>\n",
       "      <td>14.8</td>\n",
       "      <td>10.8</td>\n",
       "    </tr>\n",
       "    <tr>\n",
       "      <th>3</th>\n",
       "      <td>4.0</td>\n",
       "      <td>4.8</td>\n",
       "      <td>4.2</td>\n",
       "      <td>3.0</td>\n",
       "      <td>3.0</td>\n",
       "      <td>14.8</td>\n",
       "      <td>5.6</td>\n",
       "      <td>5.1</td>\n",
       "      <td>4.0</td>\n",
       "      <td>9.6</td>\n",
       "      <td>4.0</td>\n",
       "    </tr>\n",
       "    <tr>\n",
       "      <th>4</th>\n",
       "      <td>14.8</td>\n",
       "      <td>7.4</td>\n",
       "      <td>11.1</td>\n",
       "      <td>10.2</td>\n",
       "      <td>12.0</td>\n",
       "      <td>16.0</td>\n",
       "      <td>14.8</td>\n",
       "      <td>10.2</td>\n",
       "      <td>16.0</td>\n",
       "      <td>14.8</td>\n",
       "      <td>8.0</td>\n",
       "    </tr>\n",
       "  </tbody>\n",
       "</table>\n",
       "</div>"
      ],
      "text/plain": [
       "   PH-121  HS-101  CY-105  HS-105/12  MT-111  CS-105  CS-106  EL-102  EE-119  \\\n",
       "0    10.8     2.8     5.1        6.0     5.1     5.6     4.0     5.1    10.8   \n",
       "1    16.0     2.0     4.2        3.0     8.1     8.0     4.0    12.0     5.6   \n",
       "2    16.0     6.0    12.0        8.1    10.2    16.0    10.8    10.2    14.8   \n",
       "3     4.0     4.8     4.2        3.0     3.0    14.8     5.6     5.1     4.0   \n",
       "4    14.8     7.4    11.1       10.2    12.0    16.0    14.8    10.2    16.0   \n",
       "\n",
       "   ME-107  CS-107  \n",
       "0     6.8     6.8  \n",
       "1     4.0    13.6  \n",
       "2    14.8    10.8  \n",
       "3     9.6     4.0  \n",
       "4    14.8     8.0  "
      ]
     },
     "execution_count": 17,
     "metadata": {},
     "output_type": "execute_result"
    }
   ],
   "source": [
    "first_year.head()"
   ]
  },
  {
   "cell_type": "code",
   "execution_count": 18,
   "id": "d3a9573a",
   "metadata": {},
   "outputs": [],
   "source": [
    "# Splitting training and testing data \n",
    "from sklearn.model_selection import train_test_split\n",
    "X_train, X_test, y_train, y_test = train_test_split(first_year,output,test_size=0.2)"
   ]
  },
  {
   "cell_type": "markdown",
   "id": "46e691a5",
   "metadata": {},
   "source": [
    "## FIRST YEAR"
   ]
  },
  {
   "cell_type": "markdown",
   "id": "75e48506",
   "metadata": {},
   "source": [
    "## LinearRegression"
   ]
  },
  {
   "cell_type": "code",
   "execution_count": 28,
   "id": "0c6a11aa",
   "metadata": {},
   "outputs": [],
   "source": [
    "reg =LinearRegression()"
   ]
  },
  {
   "cell_type": "code",
   "execution_count": 21,
   "id": "739b4904",
   "metadata": {},
   "outputs": [
    {
     "data": {
      "text/plain": [
       "LinearRegression()"
      ]
     },
     "execution_count": 21,
     "metadata": {},
     "output_type": "execute_result"
    }
   ],
   "source": [
    "#applying model for training \n",
    "reg.fit(X_train, y_train)"
   ]
  },
  {
   "cell_type": "code",
   "execution_count": 22,
   "id": "2792e31a",
   "metadata": {},
   "outputs": [
    {
     "data": {
      "text/plain": [
       "array([3.29946676, 2.68453198, 2.68463203, 3.41224671, 3.10689861,\n",
       "       3.64849108, 3.01703805, 2.71487514, 3.19627578, 3.20145234,\n",
       "       2.99048326, 3.08248953, 2.60375632, 2.91117444, 2.02228015,\n",
       "       3.59460933, 3.68727564, 3.10866376, 3.66151317, 2.46121339,\n",
       "       2.77447073, 3.62924022, 3.59302809, 3.41597077, 3.27446245,\n",
       "       2.21995506, 3.26326536, 3.19499459, 3.495846  , 3.39769192,\n",
       "       3.47722188, 1.95571412, 3.28188538, 1.43562985, 2.93223704,\n",
       "       2.84684071, 3.73967326, 2.78123081, 1.8332982 , 2.55058867,\n",
       "       3.45393763, 3.75309391, 1.47024525, 3.5782476 , 2.34652788,\n",
       "       2.62050113, 2.60920608, 3.68986801, 2.6896804 , 3.52453881,\n",
       "       3.04837244, 3.37290095, 2.91164785, 2.71427592, 2.95741428,\n",
       "       3.34911979, 3.29066293, 3.57118146, 3.39034005, 3.32825733,\n",
       "       3.49886141, 2.74431512, 3.39343056, 3.22802206, 3.76572672,\n",
       "       3.57281061, 2.77358287, 1.63034485, 3.72145559, 3.8354172 ,\n",
       "       3.63412818, 3.39824956, 3.79658361, 3.59072611, 3.52556166,\n",
       "       2.21800933, 2.03571065, 1.67243582, 3.01499844, 2.9045279 ,\n",
       "       3.29503409, 2.36214582, 3.74963517, 2.94081401, 3.09733396,\n",
       "       3.78233997, 3.58079966, 1.9219743 , 3.67651004, 2.99996286,\n",
       "       3.54368603, 2.65396971, 3.20702397, 3.48951492, 3.58419851,\n",
       "       3.48190596, 3.31711373, 3.21355159, 2.87176047, 2.76239258,\n",
       "       2.91055111, 2.69318285, 3.09479327, 2.43644162, 2.64895224,\n",
       "       2.48709749, 2.86120356, 3.7763606 , 3.61463233, 2.94316718,\n",
       "       3.51035926, 3.19294204, 2.60481782, 3.52898496, 2.64495889])"
      ]
     },
     "execution_count": 22,
     "metadata": {},
     "output_type": "execute_result"
    }
   ],
   "source": [
    "predictions_reg = reg.predict(X_test)\n",
    "predictions_reg"
   ]
  },
  {
   "cell_type": "code",
   "execution_count": 23,
   "id": "6ec5133f",
   "metadata": {},
   "outputs": [
    {
     "data": {
      "text/plain": [
       "0.24404705488620984"
      ]
     },
     "execution_count": 23,
     "metadata": {},
     "output_type": "execute_result"
    }
   ],
   "source": [
    "#evaluating the model\n",
    "from sklearn.metrics import mean_squared_error\n",
    "mse=mean_squared_error(y_test,predictions_reg)\n",
    "rmse=np.sqrt(mse)\n",
    "rmse"
   ]
  },
  {
   "cell_type": "code",
   "execution_count": 24,
   "id": "c998d975",
   "metadata": {},
   "outputs": [
    {
     "data": {
      "text/plain": [
       "array([0.46380151, 0.8018767 , 0.88740278, 0.89466563, 0.60690243,\n",
       "       0.90225161, 0.79055062, 0.88999722, 0.82673116, 0.58923828])"
      ]
     },
     "execution_count": 24,
     "metadata": {},
     "output_type": "execute_result"
    }
   ],
   "source": [
    "# Test data is cross validated with CV value 10 which returns the array of scores\n",
    "from sklearn.model_selection import cross_val_score\n",
    "results=[]\n",
    "cross_value=cross_val_score(reg, X_test,y_test,cv=10)\n",
    "results.append(cross_value)\n",
    "cross_value"
   ]
  },
  {
   "cell_type": "code",
   "execution_count": 27,
   "id": "2bd2fa70",
   "metadata": {},
   "outputs": [
    {
     "data": {
      "text/plain": [
       "0.8461206413399028"
      ]
     },
     "execution_count": 27,
     "metadata": {},
     "output_type": "execute_result"
    }
   ],
   "source": [
    "# Claculating accuracy\n",
    "reg.score(X_test,y_test)"
   ]
  },
  {
   "cell_type": "markdown",
   "id": "6e1d23b5",
   "metadata": {},
   "source": [
    "## Support Vector Machine"
   ]
  },
  {
   "cell_type": "code",
   "execution_count": 29,
   "id": "479603b5",
   "metadata": {},
   "outputs": [],
   "source": [
    "# Importing support vector regression model\n",
    "from sklearn.svm import SVR \n",
    "svm=SVR()"
   ]
  },
  {
   "cell_type": "code",
   "execution_count": 30,
   "id": "93d94919",
   "metadata": {},
   "outputs": [
    {
     "data": {
      "text/plain": [
       "SVR()"
      ]
     },
     "execution_count": 30,
     "metadata": {},
     "output_type": "execute_result"
    }
   ],
   "source": [
    "# Applying model on training data\n",
    "svm.fit(X_train,y_train)"
   ]
  },
  {
   "cell_type": "code",
   "execution_count": 31,
   "id": "d4a52466",
   "metadata": {},
   "outputs": [
    {
     "data": {
      "text/plain": [
       "array([3.32339306, 2.6877403 , 2.78635201, 3.40067595, 3.04799724,\n",
       "       3.73987724, 2.98447728, 2.75945023, 3.18550484, 3.00905815,\n",
       "       2.96683537, 3.11858669, 2.86697412, 2.70185356, 1.86700181,\n",
       "       3.70128967, 3.80323383, 3.12493512, 3.68488276, 2.46537881,\n",
       "       2.72062779, 3.812726  , 3.60700398, 3.42160466, 3.31872041,\n",
       "       2.22190084, 3.20741637, 3.21211667, 3.53918332, 3.34685845,\n",
       "       3.48891645, 1.94711103, 3.28084607, 1.52441529, 3.03790821,\n",
       "       2.77196768, 3.76983733, 2.90683803, 2.01038959, 2.59718223,\n",
       "       3.44129773, 3.86307082, 1.63492029, 3.71009368, 2.06533519,\n",
       "       2.38270165, 2.63050875, 3.66857938, 2.67027641, 3.65404088,\n",
       "       2.77313881, 3.43973861, 2.7630959 , 2.67478423, 2.8960948 ,\n",
       "       3.38709227, 3.30605322, 3.60291544, 3.47991521, 3.29108864,\n",
       "       3.61640789, 2.96180627, 3.41089381, 3.1172727 , 3.83412473,\n",
       "       3.58441068, 2.75840614, 1.73333673, 3.81605422, 3.88447954,\n",
       "       3.71505008, 3.47574463, 3.88982829, 3.67923561, 3.62960115,\n",
       "       2.15857851, 2.05973655, 1.81686355, 2.7954815 , 2.838085  ,\n",
       "       3.39432107, 2.23546373, 3.83361454, 2.89577186, 3.15988067,\n",
       "       3.8632801 , 3.63403289, 1.99053166, 3.72987774, 2.94702859,\n",
       "       3.54959981, 2.74487947, 3.27388663, 3.60635626, 3.68073056,\n",
       "       3.55315513, 3.41223119, 3.38894569, 3.03701164, 2.7378081 ,\n",
       "       2.74665148, 2.71804992, 3.08238815, 2.37111361, 2.84645652,\n",
       "       2.54729359, 2.77256224, 3.87801583, 3.6296899 , 3.04495881,\n",
       "       3.53462244, 3.21587874, 2.60701376, 3.50028386, 2.38659769])"
      ]
     },
     "execution_count": 31,
     "metadata": {},
     "output_type": "execute_result"
    }
   ],
   "source": [
    "# Prediction on test data \n",
    "predictions_svm=svm.predict(X_test)\n",
    "predictions_svm"
   ]
  },
  {
   "cell_type": "code",
   "execution_count": 32,
   "id": "1b340ba2",
   "metadata": {},
   "outputs": [
    {
     "data": {
      "text/plain": [
       "0.24453775666975658"
      ]
     },
     "execution_count": 32,
     "metadata": {},
     "output_type": "execute_result"
    }
   ],
   "source": [
    "# Calculating RMSE\n",
    "mse=mean_squared_error(y_test,predictions_svm)\n",
    "rmse=np.sqrt(mse)\n",
    "rmse"
   ]
  },
  {
   "cell_type": "code",
   "execution_count": 33,
   "id": "17fa1e19",
   "metadata": {},
   "outputs": [
    {
     "data": {
      "text/plain": [
       "0.8455012133523987"
      ]
     },
     "execution_count": 33,
     "metadata": {},
     "output_type": "execute_result"
    }
   ],
   "source": [
    "# Calculating Accuracy of SVR model\n",
    "svm.score(X_test,y_test)"
   ]
  },
  {
   "cell_type": "code",
   "execution_count": 34,
   "id": "904c36fb",
   "metadata": {},
   "outputs": [
    {
     "data": {
      "text/plain": [
       "array([0.55055102, 0.75302171, 0.89694336, 0.89996885, 0.6211365 ,\n",
       "       0.90369652, 0.86973094, 0.93681334, 0.86125525, 0.58791852])"
      ]
     },
     "execution_count": 34,
     "metadata": {},
     "output_type": "execute_result"
    }
   ],
   "source": [
    "# Test data is cross validated with CV value 10 which returns the array of scores\n",
    "cross_value=cross_val_score(svm, X_test,y_test,cv=10)\n",
    "results.append(cross_value)\n",
    "cross_value"
   ]
  },
  {
   "cell_type": "markdown",
   "id": "254a1b30",
   "metadata": {},
   "source": [
    "## MODEL 2\n"
   ]
  },
  {
   "cell_type": "code",
   "execution_count": 35,
   "id": "dd8c6674",
   "metadata": {},
   "outputs": [],
   "source": [
    "#2ND YEAR"
   ]
  },
  {
   "cell_type": "code",
   "execution_count": 37,
   "id": "f814cbd2",
   "metadata": {},
   "outputs": [],
   "source": [
    "# Saving first year and second year courses in variable seccond_year\n",
    "second_year=dataset.loc[:, \"PH-121\":\"CS-215\"]"
   ]
  },
  {
   "cell_type": "code",
   "execution_count": 38,
   "id": "3798fba4",
   "metadata": {},
   "outputs": [
    {
     "data": {
      "text/html": [
       "<div>\n",
       "<style scoped>\n",
       "    .dataframe tbody tr th:only-of-type {\n",
       "        vertical-align: middle;\n",
       "    }\n",
       "\n",
       "    .dataframe tbody tr th {\n",
       "        vertical-align: top;\n",
       "    }\n",
       "\n",
       "    .dataframe thead th {\n",
       "        text-align: right;\n",
       "    }\n",
       "</style>\n",
       "<table border=\"1\" class=\"dataframe\">\n",
       "  <thead>\n",
       "    <tr style=\"text-align: right;\">\n",
       "      <th></th>\n",
       "      <th>PH-121</th>\n",
       "      <th>HS-101</th>\n",
       "      <th>CY-105</th>\n",
       "      <th>HS-105/12</th>\n",
       "      <th>MT-111</th>\n",
       "      <th>CS-105</th>\n",
       "      <th>CS-106</th>\n",
       "      <th>EL-102</th>\n",
       "      <th>EE-119</th>\n",
       "      <th>ME-107</th>\n",
       "      <th>...</th>\n",
       "      <th>MT-222</th>\n",
       "      <th>EE-222</th>\n",
       "      <th>MT-224</th>\n",
       "      <th>CS-210</th>\n",
       "      <th>CS-211</th>\n",
       "      <th>CS-203</th>\n",
       "      <th>CS-214</th>\n",
       "      <th>EE-217</th>\n",
       "      <th>CS-212</th>\n",
       "      <th>CS-215</th>\n",
       "    </tr>\n",
       "  </thead>\n",
       "  <tbody>\n",
       "    <tr>\n",
       "      <th>0</th>\n",
       "      <td>10.8</td>\n",
       "      <td>2.8</td>\n",
       "      <td>5.1</td>\n",
       "      <td>6.0</td>\n",
       "      <td>5.1</td>\n",
       "      <td>5.6</td>\n",
       "      <td>4.0</td>\n",
       "      <td>5.1</td>\n",
       "      <td>10.8</td>\n",
       "      <td>6.8</td>\n",
       "      <td>...</td>\n",
       "      <td>3.0</td>\n",
       "      <td>14.8</td>\n",
       "      <td>8.1</td>\n",
       "      <td>7.2</td>\n",
       "      <td>4.2</td>\n",
       "      <td>1.4</td>\n",
       "      <td>4.0</td>\n",
       "      <td>16.0</td>\n",
       "      <td>4.0</td>\n",
       "      <td>6.8</td>\n",
       "    </tr>\n",
       "    <tr>\n",
       "      <th>1</th>\n",
       "      <td>16.0</td>\n",
       "      <td>2.0</td>\n",
       "      <td>4.2</td>\n",
       "      <td>3.0</td>\n",
       "      <td>8.1</td>\n",
       "      <td>8.0</td>\n",
       "      <td>4.0</td>\n",
       "      <td>12.0</td>\n",
       "      <td>5.6</td>\n",
       "      <td>4.0</td>\n",
       "      <td>...</td>\n",
       "      <td>8.1</td>\n",
       "      <td>6.8</td>\n",
       "      <td>4.2</td>\n",
       "      <td>4.2</td>\n",
       "      <td>3.0</td>\n",
       "      <td>2.0</td>\n",
       "      <td>4.0</td>\n",
       "      <td>10.8</td>\n",
       "      <td>8.0</td>\n",
       "      <td>4.0</td>\n",
       "    </tr>\n",
       "    <tr>\n",
       "      <th>2</th>\n",
       "      <td>16.0</td>\n",
       "      <td>6.0</td>\n",
       "      <td>12.0</td>\n",
       "      <td>8.1</td>\n",
       "      <td>10.2</td>\n",
       "      <td>16.0</td>\n",
       "      <td>10.8</td>\n",
       "      <td>10.2</td>\n",
       "      <td>14.8</td>\n",
       "      <td>14.8</td>\n",
       "      <td>...</td>\n",
       "      <td>12.0</td>\n",
       "      <td>16.0</td>\n",
       "      <td>12.0</td>\n",
       "      <td>12.0</td>\n",
       "      <td>12.0</td>\n",
       "      <td>4.0</td>\n",
       "      <td>14.8</td>\n",
       "      <td>16.0</td>\n",
       "      <td>14.8</td>\n",
       "      <td>16.0</td>\n",
       "    </tr>\n",
       "    <tr>\n",
       "      <th>3</th>\n",
       "      <td>4.0</td>\n",
       "      <td>4.8</td>\n",
       "      <td>4.2</td>\n",
       "      <td>3.0</td>\n",
       "      <td>3.0</td>\n",
       "      <td>14.8</td>\n",
       "      <td>5.6</td>\n",
       "      <td>5.1</td>\n",
       "      <td>4.0</td>\n",
       "      <td>9.6</td>\n",
       "      <td>...</td>\n",
       "      <td>4.2</td>\n",
       "      <td>10.8</td>\n",
       "      <td>3.0</td>\n",
       "      <td>6.0</td>\n",
       "      <td>10.2</td>\n",
       "      <td>2.4</td>\n",
       "      <td>4.0</td>\n",
       "      <td>5.6</td>\n",
       "      <td>4.0</td>\n",
       "      <td>4.0</td>\n",
       "    </tr>\n",
       "    <tr>\n",
       "      <th>4</th>\n",
       "      <td>14.8</td>\n",
       "      <td>7.4</td>\n",
       "      <td>11.1</td>\n",
       "      <td>10.2</td>\n",
       "      <td>12.0</td>\n",
       "      <td>16.0</td>\n",
       "      <td>14.8</td>\n",
       "      <td>10.2</td>\n",
       "      <td>16.0</td>\n",
       "      <td>14.8</td>\n",
       "      <td>...</td>\n",
       "      <td>12.0</td>\n",
       "      <td>14.8</td>\n",
       "      <td>11.1</td>\n",
       "      <td>11.1</td>\n",
       "      <td>8.1</td>\n",
       "      <td>4.0</td>\n",
       "      <td>14.8</td>\n",
       "      <td>16.0</td>\n",
       "      <td>14.8</td>\n",
       "      <td>14.8</td>\n",
       "    </tr>\n",
       "  </tbody>\n",
       "</table>\n",
       "<p>5 rows × 22 columns</p>\n",
       "</div>"
      ],
      "text/plain": [
       "   PH-121  HS-101  CY-105  HS-105/12  MT-111  CS-105  CS-106  EL-102  EE-119  \\\n",
       "0    10.8     2.8     5.1        6.0     5.1     5.6     4.0     5.1    10.8   \n",
       "1    16.0     2.0     4.2        3.0     8.1     8.0     4.0    12.0     5.6   \n",
       "2    16.0     6.0    12.0        8.1    10.2    16.0    10.8    10.2    14.8   \n",
       "3     4.0     4.8     4.2        3.0     3.0    14.8     5.6     5.1     4.0   \n",
       "4    14.8     7.4    11.1       10.2    12.0    16.0    14.8    10.2    16.0   \n",
       "\n",
       "   ME-107  ...  MT-222  EE-222  MT-224  CS-210  CS-211  CS-203  CS-214  \\\n",
       "0     6.8  ...     3.0    14.8     8.1     7.2     4.2     1.4     4.0   \n",
       "1     4.0  ...     8.1     6.8     4.2     4.2     3.0     2.0     4.0   \n",
       "2    14.8  ...    12.0    16.0    12.0    12.0    12.0     4.0    14.8   \n",
       "3     9.6  ...     4.2    10.8     3.0     6.0    10.2     2.4     4.0   \n",
       "4    14.8  ...    12.0    14.8    11.1    11.1     8.1     4.0    14.8   \n",
       "\n",
       "   EE-217  CS-212  CS-215  \n",
       "0    16.0     4.0     6.8  \n",
       "1    10.8     8.0     4.0  \n",
       "2    16.0    14.8    16.0  \n",
       "3     5.6     4.0     4.0  \n",
       "4    16.0    14.8    14.8  \n",
       "\n",
       "[5 rows x 22 columns]"
      ]
     },
     "execution_count": 38,
     "metadata": {},
     "output_type": "execute_result"
    }
   ],
   "source": [
    "second_year.head()"
   ]
  },
  {
   "cell_type": "code",
   "execution_count": 39,
   "id": "cc3158e5",
   "metadata": {},
   "outputs": [],
   "source": [
    "# Splitting trainin and testing data\n",
    "from sklearn.model_selection import train_test_split\n",
    "X_train, X_test, y_train, y_test = train_test_split(second_year,output,test_size=0.2)"
   ]
  },
  {
   "cell_type": "markdown",
   "id": "b60f4a1e",
   "metadata": {},
   "source": [
    "## LinearRegression"
   ]
  },
  {
   "cell_type": "code",
   "execution_count": 41,
   "id": "6a7a9a7a",
   "metadata": {},
   "outputs": [],
   "source": [
    "reg2=LinearRegression()"
   ]
  },
  {
   "cell_type": "code",
   "execution_count": 42,
   "id": "11da68ea",
   "metadata": {},
   "outputs": [
    {
     "data": {
      "text/plain": [
       "LinearRegression()"
      ]
     },
     "execution_count": 42,
     "metadata": {},
     "output_type": "execute_result"
    }
   ],
   "source": [
    "# Applying model on training data\n",
    "reg2.fit(X_train,y_train)"
   ]
  },
  {
   "cell_type": "code",
   "execution_count": 43,
   "id": "dfcd3d09",
   "metadata": {},
   "outputs": [
    {
     "data": {
      "text/plain": [
       "array([3.46079421, 3.36544819, 3.01250015, 3.55122349, 3.12279536,\n",
       "       2.9367412 , 3.76977909, 2.99116113, 3.31943882, 2.01941498,\n",
       "       2.68131075, 3.15008265, 3.3394311 , 2.9934603 , 2.54404786,\n",
       "       3.1498079 , 2.3183332 , 3.23395894, 3.79859474, 3.77892278,\n",
       "       3.24590089, 2.26157936, 2.93705966, 3.55325201, 2.79610152,\n",
       "       1.92459041, 3.27570889, 2.80739841, 3.71749843, 3.32835417,\n",
       "       2.56489416, 2.89179382, 3.44283706, 2.44807579, 3.10365496,\n",
       "       3.13978346, 2.14261237, 3.30670134, 3.67597399, 2.65485655,\n",
       "       2.5984455 , 2.9077342 , 3.82496702, 2.82506667, 3.49731873,\n",
       "       2.83548758, 2.21262627, 3.02199835, 3.47311617, 2.65698813,\n",
       "       2.84685989, 1.44446445, 3.59317482, 2.45223858, 3.19184964,\n",
       "       3.47407476, 2.81196379, 2.30402914, 3.16045129, 3.3468094 ,\n",
       "       1.74455481, 3.71925097, 2.68668978, 3.38448454, 2.67416652,\n",
       "       3.83175849, 3.36243189, 2.89609329, 3.44657927, 3.50590153,\n",
       "       2.01337447, 3.22746256, 3.56042022, 2.11569645, 2.68320478,\n",
       "       2.85168292, 3.14502521, 2.7145307 , 3.72978972, 3.53136602,\n",
       "       3.39497368, 3.34219779, 1.86567919, 2.80341623, 3.48247027,\n",
       "       3.3473572 , 3.52591174, 1.67880139, 3.05913205, 2.80225642,\n",
       "       3.45314752, 3.19643877, 2.68783366, 3.45657651, 3.60426915,\n",
       "       2.98614363, 2.76821877, 1.90608441, 2.74044849, 3.01726947,\n",
       "       3.81096536, 1.79570453, 2.07119657, 3.56845093, 2.55814463,\n",
       "       2.65980108, 0.74496427, 2.87547971, 2.40985039, 3.4234367 ,\n",
       "       3.36371378, 3.30857249, 1.89332268, 2.71620408, 3.55050538])"
      ]
     },
     "execution_count": 43,
     "metadata": {},
     "output_type": "execute_result"
    }
   ],
   "source": [
    "\n",
    "# Predictions on test data\n",
    "predictions_reg2=reg2.predict(X_test)\n",
    "predictions_reg2"
   ]
  },
  {
   "cell_type": "code",
   "execution_count": 44,
   "id": "38bddf88",
   "metadata": {},
   "outputs": [
    {
     "data": {
      "text/plain": [
       "0.19698488996232125"
      ]
     },
     "execution_count": 44,
     "metadata": {},
     "output_type": "execute_result"
    }
   ],
   "source": [
    "# Calculating RMSE\n",
    "\n",
    "mse=mean_squared_error(y_test,predictions_reg2)\n",
    "rmse=np.sqrt(mse)\n",
    "rmse"
   ]
  },
  {
   "cell_type": "code",
   "execution_count": 45,
   "id": "3dc70093",
   "metadata": {},
   "outputs": [
    {
     "data": {
      "text/plain": [
       "array([ 0.75885667,  0.87705847,  0.93818225,  0.93386016,  0.92297974,\n",
       "        0.93658804,  0.93099713, -0.06906805,  0.95111157,  0.84094383])"
      ]
     },
     "execution_count": 45,
     "metadata": {},
     "output_type": "execute_result"
    }
   ],
   "source": [
    "# Test data is cross validated with CV value 10\n",
    "cross_value=cross_val_score(reg2, X_test,y_test,cv=10)\n",
    "results.append(cross_value)\n",
    "cross_value"
   ]
  },
  {
   "cell_type": "code",
   "execution_count": 46,
   "id": "6ed8e79b",
   "metadata": {},
   "outputs": [
    {
     "data": {
      "text/plain": [
       "0.9007094450123184"
      ]
     },
     "execution_count": 46,
     "metadata": {},
     "output_type": "execute_result"
    }
   ],
   "source": [
    "# Calculating Accuracy of the model\n",
    "reg2.score(X_test,y_test)"
   ]
  },
  {
   "cell_type": "markdown",
   "id": "c0c36bf3",
   "metadata": {},
   "source": [
    "## Support Vector Machine"
   ]
  },
  {
   "cell_type": "code",
   "execution_count": 48,
   "id": "445b5549",
   "metadata": {},
   "outputs": [],
   "source": [
    "svm2=SVR()"
   ]
  },
  {
   "cell_type": "code",
   "execution_count": 50,
   "id": "6100b5cc",
   "metadata": {},
   "outputs": [
    {
     "data": {
      "text/plain": [
       "SVR()"
      ]
     },
     "execution_count": 50,
     "metadata": {},
     "output_type": "execute_result"
    }
   ],
   "source": [
    "\n",
    "# Applying model on training data\n",
    "svm2.fit(X_train,y_train)"
   ]
  },
  {
   "cell_type": "code",
   "execution_count": 51,
   "id": "394d1736",
   "metadata": {},
   "outputs": [
    {
     "data": {
      "text/plain": [
       "array([3.56143869, 3.25184349, 3.03127005, 3.54828505, 3.18910202,\n",
       "       2.71159379, 3.80653935, 3.14444091, 3.3619426 , 1.75309145,\n",
       "       2.78295339, 3.19648321, 3.38766512, 3.10057823, 2.69687918,\n",
       "       3.19024788, 2.37202586, 3.29193335, 3.82173419, 3.84422527,\n",
       "       3.25023651, 2.31083975, 2.88596426, 3.63521516, 2.69842748,\n",
       "       1.99541506, 3.2295388 , 2.71308133, 3.73197956, 3.36247667,\n",
       "       2.65301829, 2.8764569 , 3.52550254, 2.48610417, 3.12541911,\n",
       "       3.16070659, 2.04971298, 3.20814587, 3.69052308, 2.58053659,\n",
       "       2.54523897, 2.94893672, 3.8440444 , 2.67834826, 3.53782081,\n",
       "       2.79062355, 2.22085717, 3.03259465, 3.52603288, 2.61199735,\n",
       "       2.87487911, 1.64176533, 3.6411901 , 2.34914982, 3.13228389,\n",
       "       3.55384205, 2.99140078, 2.25008707, 3.14815181, 3.33213669,\n",
       "       1.78231995, 3.74269711, 2.51461144, 3.32864784, 2.56405859,\n",
       "       3.86511688, 3.4626459 , 3.08375343, 3.38607786, 3.5300437 ,\n",
       "       1.98350744, 3.14375226, 3.60292172, 2.09381558, 2.56922367,\n",
       "       2.67451449, 3.19849258, 2.53470838, 3.77809195, 3.65627894,\n",
       "       3.46156744, 3.37280096, 1.76841819, 2.68847967, 3.4768155 ,\n",
       "       3.42544771, 3.47513247, 2.21271547, 3.1084291 , 2.75462862,\n",
       "       3.50417834, 3.25268594, 2.66559898, 3.52999018, 3.66565106,\n",
       "       2.99686809, 2.68884542, 1.99753279, 2.72366219, 3.28615569,\n",
       "       3.84728383, 1.91756831, 1.84497002, 3.70418442, 2.56436616,\n",
       "       2.51902545, 1.19618072, 2.54172154, 2.29571303, 3.54643917,\n",
       "       3.52056045, 3.2828819 , 1.81012907, 2.72588289, 3.54318229])"
      ]
     },
     "execution_count": 51,
     "metadata": {},
     "output_type": "execute_result"
    }
   ],
   "source": [
    "# Predictions on test data\n",
    "predictions_svm2 = svm2.predict(X_test)\n",
    "predictions_svm2"
   ]
  },
  {
   "cell_type": "code",
   "execution_count": 52,
   "id": "3179a363",
   "metadata": {},
   "outputs": [
    {
     "data": {
      "text/plain": [
       "0.14445366581198507"
      ]
     },
     "execution_count": 52,
     "metadata": {},
     "output_type": "execute_result"
    }
   ],
   "source": [
    "# Calculating RMSE\n",
    "mse=mean_squared_error(y_test,predictions_svm2)\n",
    "rmse=np.sqrt(mse)\n",
    "rmse"
   ]
  },
  {
   "cell_type": "code",
   "execution_count": 53,
   "id": "27f55e17",
   "metadata": {},
   "outputs": [
    {
     "data": {
      "text/plain": [
       "0.9466051655029275"
      ]
     },
     "execution_count": 53,
     "metadata": {},
     "output_type": "execute_result"
    }
   ],
   "source": [
    "# Calculating accuracy of the model\n",
    "svm2.score(X_test,y_test)"
   ]
  },
  {
   "cell_type": "code",
   "execution_count": 54,
   "id": "8818f6ef",
   "metadata": {},
   "outputs": [
    {
     "data": {
      "text/plain": [
       "array([0.90060334, 0.92467484, 0.95970688, 0.9577698 , 0.91930703,\n",
       "       0.95590015, 0.92542409, 0.63269896, 0.98409792, 0.76486255])"
      ]
     },
     "execution_count": 54,
     "metadata": {},
     "output_type": "execute_result"
    }
   ],
   "source": [
    "# Test data is cross validated with CV value 10 which returns the array of scores\n",
    "from sklearn.model_selection import cross_val_score\n",
    "cross_value=cross_val_score(svm2, X_test,y_test,cv=10)\n",
    "results.append(cross_value)\n",
    "cross_value"
   ]
  },
  {
   "cell_type": "markdown",
   "id": "f8347fa2",
   "metadata": {},
   "source": [
    "## MODEL 3"
   ]
  },
  {
   "cell_type": "code",
   "execution_count": 55,
   "id": "da5584b3",
   "metadata": {},
   "outputs": [],
   "source": [
    "# 3RD YEAR"
   ]
  },
  {
   "cell_type": "code",
   "execution_count": 57,
   "id": "2cb0926c",
   "metadata": {},
   "outputs": [],
   "source": [
    "# Saving courses from first year to third year in variable Third_year\n",
    "Third_year=dataset.loc[:, \"PH-121\":\"CS-317\"]"
   ]
  },
  {
   "cell_type": "code",
   "execution_count": 58,
   "id": "6eb1fdc9",
   "metadata": {},
   "outputs": [
    {
     "data": {
      "text/html": [
       "<div>\n",
       "<style scoped>\n",
       "    .dataframe tbody tr th:only-of-type {\n",
       "        vertical-align: middle;\n",
       "    }\n",
       "\n",
       "    .dataframe tbody tr th {\n",
       "        vertical-align: top;\n",
       "    }\n",
       "\n",
       "    .dataframe thead th {\n",
       "        text-align: right;\n",
       "    }\n",
       "</style>\n",
       "<table border=\"1\" class=\"dataframe\">\n",
       "  <thead>\n",
       "    <tr style=\"text-align: right;\">\n",
       "      <th></th>\n",
       "      <th>PH-121</th>\n",
       "      <th>HS-101</th>\n",
       "      <th>CY-105</th>\n",
       "      <th>HS-105/12</th>\n",
       "      <th>MT-111</th>\n",
       "      <th>CS-105</th>\n",
       "      <th>CS-106</th>\n",
       "      <th>EL-102</th>\n",
       "      <th>EE-119</th>\n",
       "      <th>ME-107</th>\n",
       "      <th>...</th>\n",
       "      <th>HS-304</th>\n",
       "      <th>CS-301</th>\n",
       "      <th>CS-302</th>\n",
       "      <th>TC-383</th>\n",
       "      <th>MT-442</th>\n",
       "      <th>EL-332</th>\n",
       "      <th>CS-318</th>\n",
       "      <th>CS-306</th>\n",
       "      <th>CS-312</th>\n",
       "      <th>CS-317</th>\n",
       "    </tr>\n",
       "  </thead>\n",
       "  <tbody>\n",
       "    <tr>\n",
       "      <th>0</th>\n",
       "      <td>10.8</td>\n",
       "      <td>2.8</td>\n",
       "      <td>5.1</td>\n",
       "      <td>6.0</td>\n",
       "      <td>5.1</td>\n",
       "      <td>5.6</td>\n",
       "      <td>4.0</td>\n",
       "      <td>5.1</td>\n",
       "      <td>10.8</td>\n",
       "      <td>6.8</td>\n",
       "      <td>...</td>\n",
       "      <td>4.8</td>\n",
       "      <td>12.0</td>\n",
       "      <td>6.0</td>\n",
       "      <td>4.8</td>\n",
       "      <td>10.2</td>\n",
       "      <td>4.0</td>\n",
       "      <td>6.8</td>\n",
       "      <td>8.0</td>\n",
       "      <td>6.8</td>\n",
       "      <td>5.1</td>\n",
       "    </tr>\n",
       "    <tr>\n",
       "      <th>1</th>\n",
       "      <td>16.0</td>\n",
       "      <td>2.0</td>\n",
       "      <td>4.2</td>\n",
       "      <td>3.0</td>\n",
       "      <td>8.1</td>\n",
       "      <td>8.0</td>\n",
       "      <td>4.0</td>\n",
       "      <td>12.0</td>\n",
       "      <td>5.6</td>\n",
       "      <td>4.0</td>\n",
       "      <td>...</td>\n",
       "      <td>3.4</td>\n",
       "      <td>14.8</td>\n",
       "      <td>4.2</td>\n",
       "      <td>3.4</td>\n",
       "      <td>5.1</td>\n",
       "      <td>4.0</td>\n",
       "      <td>14.8</td>\n",
       "      <td>4.0</td>\n",
       "      <td>5.6</td>\n",
       "      <td>3.0</td>\n",
       "    </tr>\n",
       "    <tr>\n",
       "      <th>2</th>\n",
       "      <td>16.0</td>\n",
       "      <td>6.0</td>\n",
       "      <td>12.0</td>\n",
       "      <td>8.1</td>\n",
       "      <td>10.2</td>\n",
       "      <td>16.0</td>\n",
       "      <td>10.8</td>\n",
       "      <td>10.2</td>\n",
       "      <td>14.8</td>\n",
       "      <td>14.8</td>\n",
       "      <td>...</td>\n",
       "      <td>8.0</td>\n",
       "      <td>13.6</td>\n",
       "      <td>11.1</td>\n",
       "      <td>6.0</td>\n",
       "      <td>12.0</td>\n",
       "      <td>6.8</td>\n",
       "      <td>14.8</td>\n",
       "      <td>14.8</td>\n",
       "      <td>12.0</td>\n",
       "      <td>9.0</td>\n",
       "    </tr>\n",
       "    <tr>\n",
       "      <th>3</th>\n",
       "      <td>4.0</td>\n",
       "      <td>4.8</td>\n",
       "      <td>4.2</td>\n",
       "      <td>3.0</td>\n",
       "      <td>3.0</td>\n",
       "      <td>14.8</td>\n",
       "      <td>5.6</td>\n",
       "      <td>5.1</td>\n",
       "      <td>4.0</td>\n",
       "      <td>9.6</td>\n",
       "      <td>...</td>\n",
       "      <td>5.4</td>\n",
       "      <td>4.0</td>\n",
       "      <td>8.1</td>\n",
       "      <td>2.8</td>\n",
       "      <td>5.1</td>\n",
       "      <td>2.8</td>\n",
       "      <td>13.6</td>\n",
       "      <td>6.8</td>\n",
       "      <td>5.6</td>\n",
       "      <td>6.0</td>\n",
       "    </tr>\n",
       "    <tr>\n",
       "      <th>4</th>\n",
       "      <td>14.8</td>\n",
       "      <td>7.4</td>\n",
       "      <td>11.1</td>\n",
       "      <td>10.2</td>\n",
       "      <td>12.0</td>\n",
       "      <td>16.0</td>\n",
       "      <td>14.8</td>\n",
       "      <td>10.2</td>\n",
       "      <td>16.0</td>\n",
       "      <td>14.8</td>\n",
       "      <td>...</td>\n",
       "      <td>7.4</td>\n",
       "      <td>10.8</td>\n",
       "      <td>11.1</td>\n",
       "      <td>4.8</td>\n",
       "      <td>11.1</td>\n",
       "      <td>7.4</td>\n",
       "      <td>10.8</td>\n",
       "      <td>14.8</td>\n",
       "      <td>10.8</td>\n",
       "      <td>10.2</td>\n",
       "    </tr>\n",
       "  </tbody>\n",
       "</table>\n",
       "<p>5 rows × 34 columns</p>\n",
       "</div>"
      ],
      "text/plain": [
       "   PH-121  HS-101  CY-105  HS-105/12  MT-111  CS-105  CS-106  EL-102  EE-119  \\\n",
       "0    10.8     2.8     5.1        6.0     5.1     5.6     4.0     5.1    10.8   \n",
       "1    16.0     2.0     4.2        3.0     8.1     8.0     4.0    12.0     5.6   \n",
       "2    16.0     6.0    12.0        8.1    10.2    16.0    10.8    10.2    14.8   \n",
       "3     4.0     4.8     4.2        3.0     3.0    14.8     5.6     5.1     4.0   \n",
       "4    14.8     7.4    11.1       10.2    12.0    16.0    14.8    10.2    16.0   \n",
       "\n",
       "   ME-107  ...  HS-304  CS-301  CS-302  TC-383  MT-442  EL-332  CS-318  \\\n",
       "0     6.8  ...     4.8    12.0     6.0     4.8    10.2     4.0     6.8   \n",
       "1     4.0  ...     3.4    14.8     4.2     3.4     5.1     4.0    14.8   \n",
       "2    14.8  ...     8.0    13.6    11.1     6.0    12.0     6.8    14.8   \n",
       "3     9.6  ...     5.4     4.0     8.1     2.8     5.1     2.8    13.6   \n",
       "4    14.8  ...     7.4    10.8    11.1     4.8    11.1     7.4    10.8   \n",
       "\n",
       "   CS-306  CS-312  CS-317  \n",
       "0     8.0     6.8     5.1  \n",
       "1     4.0     5.6     3.0  \n",
       "2    14.8    12.0     9.0  \n",
       "3     6.8     5.6     6.0  \n",
       "4    14.8    10.8    10.2  \n",
       "\n",
       "[5 rows x 34 columns]"
      ]
     },
     "execution_count": 58,
     "metadata": {},
     "output_type": "execute_result"
    }
   ],
   "source": [
    "Third_year.head()"
   ]
  },
  {
   "cell_type": "code",
   "execution_count": 69,
   "id": "3a7be058",
   "metadata": {},
   "outputs": [],
   "source": [
    "# Splitting training and testing data\n",
    "X_train, X_test, y_train, y_test = train_test_split(Third_year,output,test_size=0.2)"
   ]
  },
  {
   "cell_type": "markdown",
   "id": "626ea039",
   "metadata": {},
   "source": [
    "## LinearRegression"
   ]
  },
  {
   "cell_type": "code",
   "execution_count": 60,
   "id": "8a54a01d",
   "metadata": {},
   "outputs": [],
   "source": [
    "reg3=LinearRegression()"
   ]
  },
  {
   "cell_type": "code",
   "execution_count": 74,
   "id": "2076a1bd",
   "metadata": {},
   "outputs": [
    {
     "data": {
      "text/plain": [
       "LinearRegression()"
      ]
     },
     "execution_count": 74,
     "metadata": {},
     "output_type": "execute_result"
    }
   ],
   "source": [
    "reg3=LinearRegression()\n",
    "# Applying model on training data\n",
    "reg3.fit(X_train,y_train)"
   ]
  },
  {
   "cell_type": "code",
   "execution_count": 76,
   "id": "9d0533a2",
   "metadata": {},
   "outputs": [
    {
     "data": {
      "text/plain": [
       "array([3.24462247, 2.74436957, 3.7423554 , 2.65142221, 3.08252611,\n",
       "       3.73054034, 2.17335115, 3.2836374 , 2.86502642, 2.3779906 ,\n",
       "       3.24121662, 3.67383044, 2.84419468, 2.35352358, 3.82971441,\n",
       "       3.62322143, 3.03402476, 3.62482278, 3.0409197 , 2.81486583,\n",
       "       1.46769244, 1.9815996 , 2.91739029, 2.11555982, 3.33759892,\n",
       "       3.88570876, 2.73031412, 2.29249156, 2.13080784, 3.7241881 ,\n",
       "       2.9213669 , 3.11758435, 2.42958407, 1.69068757, 2.30216775,\n",
       "       2.85055307, 2.66943057, 3.65491483, 2.74184161, 3.51383723,\n",
       "       2.13429815, 2.46868894, 3.41731786, 3.89766851, 3.53587523,\n",
       "       3.88982141, 3.58594258, 2.70084167, 2.84441837, 3.41794904,\n",
       "       3.37073923, 3.77250387, 3.8473221 , 3.00373278, 3.21683513,\n",
       "       3.04790039, 2.3000233 , 0.88408996, 2.90496871, 2.76608437,\n",
       "       3.75115531, 2.41047969, 3.20173007, 2.49782907, 3.49868795,\n",
       "       2.56907145, 3.57364936, 2.42485357, 3.61092442, 2.91490443,\n",
       "       2.79179049, 3.2884961 , 2.68949337, 2.64816268, 2.85520633,\n",
       "       3.69010322, 3.50910203, 3.48453578, 3.34097256, 2.76418911,\n",
       "       3.20782179, 3.43525493, 2.7887977 , 3.69856563, 2.39381502,\n",
       "       3.30288357, 3.67057299, 2.97089045, 3.77786587, 2.61613059,\n",
       "       3.69680639, 3.77612428, 3.34424084, 3.67137475, 2.80391183,\n",
       "       3.53541681, 2.77498923, 2.95674837, 2.11694015, 2.12169353,\n",
       "       2.58968766, 3.46920131, 2.21987859, 3.17804779, 3.59123066,\n",
       "       3.44964081, 3.1131006 , 2.95431417, 3.74451584, 2.88475734,\n",
       "       1.99568935, 1.85088492, 3.03336474, 3.88193369, 3.24475431])"
      ]
     },
     "execution_count": 76,
     "metadata": {},
     "output_type": "execute_result"
    }
   ],
   "source": [
    "# Predictions on test data\n",
    "predictions_reg3 = reg3.predict(X_test)\n",
    "predictions_reg3"
   ]
  },
  {
   "cell_type": "code",
   "execution_count": 77,
   "id": "d6c8bf84",
   "metadata": {},
   "outputs": [
    {
     "data": {
      "text/plain": [
       "0.1407772760562424"
      ]
     },
     "execution_count": 77,
     "metadata": {},
     "output_type": "execute_result"
    }
   ],
   "source": [
    "mse=mean_squared_error(y_test,predictions_reg3)\n",
    "rmse=np.sqrt(mse)\n",
    "rmse"
   ]
  },
  {
   "cell_type": "code",
   "execution_count": 79,
   "id": "2ab74757",
   "metadata": {},
   "outputs": [
    {
     "data": {
      "text/plain": [
       "0.9458574156341795"
      ]
     },
     "execution_count": 79,
     "metadata": {},
     "output_type": "execute_result"
    }
   ],
   "source": [
    "# Calculating accuracy of the model\n",
    "reg3.score(X_test,y_test)"
   ]
  },
  {
   "cell_type": "code",
   "execution_count": 80,
   "id": "969bc005",
   "metadata": {},
   "outputs": [
    {
     "data": {
      "text/plain": [
       "array([0.94228623, 0.47354604, 0.98085473, 0.96581297, 0.92672592,\n",
       "       0.80422961, 0.92024394, 0.89198339, 0.88763473, 0.94049837])"
      ]
     },
     "execution_count": 80,
     "metadata": {},
     "output_type": "execute_result"
    }
   ],
   "source": [
    "cross_value=cross_val_score(reg3, X_test,y_test,cv=10)\n",
    "results.append(cross_value)\n",
    "cross_value"
   ]
  },
  {
   "cell_type": "code",
   "execution_count": 81,
   "id": "1b992c2b",
   "metadata": {},
   "outputs": [
    {
     "data": {
      "text/plain": [
       "0.9458574156341795"
      ]
     },
     "execution_count": 81,
     "metadata": {},
     "output_type": "execute_result"
    }
   ],
   "source": [
    "# Calculating accuracy of the model\n",
    "reg3.score(X_test,y_test)"
   ]
  },
  {
   "cell_type": "markdown",
   "id": "b7ed7336",
   "metadata": {},
   "source": [
    "## Support Vector Regression"
   ]
  },
  {
   "cell_type": "code",
   "execution_count": 82,
   "id": "48ba3a83",
   "metadata": {},
   "outputs": [],
   "source": [
    "svm3=SVR()"
   ]
  },
  {
   "cell_type": "code",
   "execution_count": 84,
   "id": "c200dad8",
   "metadata": {},
   "outputs": [
    {
     "data": {
      "text/plain": [
       "SVR()"
      ]
     },
     "execution_count": 84,
     "metadata": {},
     "output_type": "execute_result"
    }
   ],
   "source": [
    "# Applying model on training data\n",
    "svm3.fit(X_train,y_train)"
   ]
  },
  {
   "cell_type": "code",
   "execution_count": 85,
   "id": "15b7cdff",
   "metadata": {},
   "outputs": [
    {
     "data": {
      "text/plain": [
       "array([3.2942248 , 2.7019587 , 3.83795882, 2.51703278, 3.08233977,\n",
       "       3.67361781, 2.04368503, 3.24448206, 2.88467493, 2.34608101,\n",
       "       3.24692605, 3.64143205, 2.85031583, 2.145084  , 3.85271093,\n",
       "       3.66932483, 2.83961117, 3.59493458, 2.97828215, 2.81105785,\n",
       "       2.62195925, 2.05566517, 2.86874519, 1.92769406, 3.45822176,\n",
       "       3.86048488, 2.65982839, 2.24779362, 2.08104468, 3.64778412,\n",
       "       2.95121623, 3.05987672, 2.53645405, 1.73502251, 2.34461037,\n",
       "       2.97137287, 2.64754866, 3.67781058, 2.74055545, 3.58608158,\n",
       "       2.01892978, 2.41480895, 3.4946438 , 3.84698306, 3.60323241,\n",
       "       3.84190645, 3.6327811 , 2.69426701, 2.88399479, 3.51425241,\n",
       "       3.43717569, 3.69641038, 3.84381068, 2.91825233, 3.08425521,\n",
       "       3.06165058, 2.07285432, 1.46931168, 2.67081304, 2.72206825,\n",
       "       3.6325366 , 2.42405904, 3.15681444, 2.34952434, 3.48602894,\n",
       "       2.33271186, 3.53163093, 2.2703183 , 3.67259694, 2.7898822 ,\n",
       "       2.78880821, 3.28962103, 2.57130113, 2.61785445, 2.79353952,\n",
       "       3.76363399, 3.53192992, 3.54998985, 3.34682356, 2.71370752,\n",
       "       3.11066204, 3.41822892, 2.71639943, 3.71609392, 2.39344334,\n",
       "       3.25687708, 3.71953062, 2.87200356, 3.80295367, 2.40117636,\n",
       "       3.74840103, 3.72208414, 3.40572852, 3.71747963, 2.62376184,\n",
       "       3.58190533, 2.82434911, 2.97790837, 1.96834533, 2.2652162 ,\n",
       "       2.56661725, 3.45185836, 2.04409358, 3.10096673, 3.62804143,\n",
       "       3.27969128, 3.10167091, 2.98068396, 3.7987846 , 2.98889024,\n",
       "       2.07301639, 1.96920131, 2.93302316, 3.866045  , 3.29206489])"
      ]
     },
     "execution_count": 85,
     "metadata": {},
     "output_type": "execute_result"
    }
   ],
   "source": [
    "# Predictions on test data \n",
    "predictions_svm3 = svm3.predict(X_test)\n",
    "predictions_svm3"
   ]
  },
  {
   "cell_type": "code",
   "execution_count": 86,
   "id": "150c3b0c",
   "metadata": {},
   "outputs": [
    {
     "data": {
      "text/plain": [
       "0.9844729825924654"
      ]
     },
     "execution_count": 86,
     "metadata": {},
     "output_type": "execute_result"
    }
   ],
   "source": [
    "# Calculating accuracy of the model\n",
    "svm3.score(X_test,y_test)"
   ]
  },
  {
   "cell_type": "code",
   "execution_count": 87,
   "id": "10716983",
   "metadata": {},
   "outputs": [
    {
     "data": {
      "text/plain": [
       "array([0.9709862 , 0.93318437, 0.97748587, 0.98679025, 0.80004419,\n",
       "       0.98221324, 0.93864312, 0.97151315, 0.96764717, 0.96365636])"
      ]
     },
     "execution_count": 87,
     "metadata": {},
     "output_type": "execute_result"
    }
   ],
   "source": [
    "# Test data is cross validated with CV value 10 which returns the array of scores\n",
    "cross_value=cross_val_score(svm3, X_test,y_test,cv=10)\n",
    "results.append(cross_value)\n",
    "cross_value"
   ]
  },
  {
   "cell_type": "code",
   "execution_count": 90,
   "id": "42223d4f",
   "metadata": {},
   "outputs": [],
   "source": [
    "# Making list of models \n",
    "models=[('reg1',reg),('reg2',reg2),('LR3',reg3),('SVR1',svm),('SVR2',svm2),('SVR3',svm3)]"
   ]
  },
  {
   "cell_type": "code",
   "execution_count": 91,
   "id": "0cdd9f2d",
   "metadata": {},
   "outputs": [
    {
     "data": {
      "text/plain": [
       "[('reg1', LinearRegression()),\n",
       " ('reg2', LinearRegression()),\n",
       " ('LR3', LinearRegression()),\n",
       " ('SVR1', SVR()),\n",
       " ('SVR2', SVR()),\n",
       " ('SVR3', SVR())]"
      ]
     },
     "execution_count": 91,
     "metadata": {},
     "output_type": "execute_result"
    }
   ],
   "source": [
    "models"
   ]
  },
  {
   "cell_type": "code",
   "execution_count": 92,
   "id": "42efd2c8",
   "metadata": {},
   "outputs": [
    {
     "data": {
      "image/png": "[encoded data removed]",
      "text/plain": [
       "<Figure size 640x480 with 1 Axes>"
      ]
     },
     "metadata": {},
     "output_type": "display_data"
    }
   ],
   "source": [
    "names = [] #Variable used to fetch names of the models in list of models\n",
    "for name, model in models:\n",
    "\tnames.append(name)\n",
    "\n",
    "# boxplot of algorithm comparison\n",
    "fig = plt.figure()\n",
    "fig.suptitle('Comparison between different Models')\n",
    "ax = fig.add_subplot(111) # a graph of 1x1\n",
    "plt.boxplot(results)\n",
    "ax.set_xticklabels(names)\n",
    "plt.show()"
   ]
  },
  {
   "cell_type": "code",
   "execution_count": null,
   "id": "e0579584",
   "metadata": {},
   "outputs": [],
   "source": []
  }
 ],
 "metadata": {
  "kernelspec": {
   "display_name": "Python 3 (ipykernel)",
   "language": "python",
   "name": "python3"
  },
  "language_info": {
   "codemirror_mode": {
    "name": "ipython",
    "version": 3
   },
   "file_extension": ".py",
   "mimetype": "text/x-python",
   "name": "python",
   "nbconvert_exporter": "python",
   "pygments_lexer": "ipython3",
   "version": "3.9.13"
  }
 },
 "nbformat": 4,
 "nbformat_minor": 5
}
